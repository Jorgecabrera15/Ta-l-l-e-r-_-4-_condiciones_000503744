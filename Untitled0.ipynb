{
  "nbformat": 4,
  "nbformat_minor": 0,
  "metadata": {
    "colab": {
      "provenance": [],
      "authorship_tag": "ABX9TyMWWwkk70/DnWltT/ZJoeTh",
      "include_colab_link": true
    },
    "kernelspec": {
      "name": "python3",
      "display_name": "Python 3"
    },
    "language_info": {
      "name": "python"
    }
  },
  "cells": [
    {
      "cell_type": "markdown",
      "metadata": {
        "id": "view-in-github",
        "colab_type": "text"
      },
      "source": [
        "<a href=\"https://colab.research.google.com/github/Jorgecabrera15/Ta-l-l-e-r-_-4-_condiciones_000503744/blob/main/Untitled0.ipynb\" target=\"_parent\"><img src=\"https://colab.research.google.com/assets/colab-badge.svg\" alt=\"Open In Colab\"/></a>"
      ]
    },
    {
      "cell_type": "markdown",
      "source": [
        "# JORGE CABRERA ARROYO - 00503744-jorge.cabreraa38@upb.edu.co"
      ],
      "metadata": {
        "id": "yweR2goNh3WF"
      }
    },
    {
      "cell_type": "markdown",
      "source": [
        "1.Calculadora de calificacionesEscribe un programa en Pythonque solicite al usuario ingresar una calificación numérica (de 0 a 5) y  luego  muestre  un  mensaje  que  diga  si  el  estudiante  aprobó  o  reprobó.  UDliza  una  estructura selecDva doble (if -else).\n"
      ],
      "metadata": {
        "id": "Ncpy1e0IjxtV"
      }
    },
    {
      "cell_type": "code",
      "source": [
        "#programa donde se calcule la nota del estudisnte, y saber si gano o perdio\n",
        "nota=float(input(\"agrege la nota obtenida (0 a 5): \"))\n",
        "if nota >= 3:\n",
        "  print(\"el estudiante gano, su nota fue de:\", nota)\n",
        "else:\n",
        "  print(\"el estudiante perdio, su nota fue de\", nota)\n",
        "\n"
      ],
      "metadata": {
        "colab": {
          "base_uri": "https://localhost:8080/"
        },
        "id": "daYuhrXEj4-t",
        "outputId": "65ce2052-419c-4cfb-af28-e3b56188c9eb"
      },
      "execution_count": null,
      "outputs": [
        {
          "output_type": "stream",
          "name": "stdout",
          "text": [
            "agrege la nota obtenida (0 a 5): 2.8\n",
            "el estudiante perdio, su nota fue de 2.8\n"
          ]
        }
      ]
    },
    {
      "cell_type": "markdown",
      "source": [
        "2.Verificar si un número es posi%vo, nega%vo o ceroEscribe  un  programa  en Pythonque  solicite  al  usuario  ingresar  un  número  y  luego  determine  e imprima si el número es posiDvo, negaDvo o cero uDlizando estructurasselecDvasdoble (if -else)."
      ],
      "metadata": {
        "id": "rdRtavLTqsTo"
      }
    },
    {
      "cell_type": "code",
      "source": [
        "#programa para saber si el numero agregado es positivo o negativo.\n",
        "numero=float(input(\"agrege cualquier numero:\"))\n",
        "print(\"el numero es:\", numero)\n",
        "if  numero > 0:\n",
        "  print(\"el numero agregado es positivo:\")\n",
        "else:\n",
        "  print(\"el numero agregado es negativo:\")"
      ],
      "metadata": {
        "colab": {
          "base_uri": "https://localhost:8080/"
        },
        "id": "fAkmHZhxrBWO",
        "outputId": "7152fc0f-1d13-4f95-9b71-e87e279ca1f8"
      },
      "execution_count": null,
      "outputs": [
        {
          "output_type": "stream",
          "name": "stdout",
          "text": [
            "agrege cualquier numero:-4\n",
            "el numero es: -4.0\n",
            "el numero agregado es negativo:\n"
          ]
        }
      ]
    },
    {
      "cell_type": "markdown",
      "source": [
        "Validación de contraseñaEscribe un programa en Pythonque solicite al usuario ingresar una contraseña. Si la contraseña es \"python123\",  el  programa  debe  imprimir  \"Contraseña  válida\".  De  lo  contrario,  debe  imprimir \"Contraseña incorrecta\". UDliza una estructura selecDva doble (if -else)."
      ],
      "metadata": {
        "id": "0lE9DhBxtZSN"
      }
    },
    {
      "cell_type": "code",
      "source": [
        "#programa para a saber si la contraseña es correcta o no.\n",
        "contraseña=(input(\"agrege la contaseña\"))\n",
        "if contraseña == \"python123\":\n",
        "  print(\"contraseña correcta\")\n",
        "else:\n",
        "  print(\"contraseña incorrecta\")\n"
      ],
      "metadata": {
        "colab": {
          "base_uri": "https://localhost:8080/"
        },
        "id": "QT36xs7jtmvK",
        "outputId": "a0bba2fe-4a83-4980-e3b7-9cf8ccba97e5"
      },
      "execution_count": null,
      "outputs": [
        {
          "output_type": "stream",
          "name": "stdout",
          "text": [
            "agrege la contaseñapython123\n",
            "contraseña correcta\n"
          ]
        }
      ]
    },
    {
      "cell_type": "markdown",
      "source": [
        "Determinar si un número es par o imparEscribe un programa en Pythonque solicite al usuario ingresar un número ydetermine e imprima si el número es par o impar uDlizando una estructura selecDva doble (if -else)."
      ],
      "metadata": {
        "id": "PrUeTBLRvba7"
      }
    },
    {
      "cell_type": "code",
      "source": [
        "#programa para saber si el numero agregado es par o impar\n",
        "numero = float(input(\"agrege un numero:\"))\n",
        "if numero %2 == 0:\n",
        "  print(\"el numero digitado es par:\")\n",
        "else:\n",
        "  print(\"el numero digitado es impar\")"
      ],
      "metadata": {
        "colab": {
          "base_uri": "https://localhost:8080/"
        },
        "id": "2hdsQwuOvVNi",
        "outputId": "edb8627a-a4a2-4b0d-8faa-4c0d462f44d5"
      },
      "execution_count": null,
      "outputs": [
        {
          "output_type": "stream",
          "name": "stdout",
          "text": [
            "agrege un numero:5\n",
            "el numero digitado es impar\n"
          ]
        }
      ]
    },
    {
      "cell_type": "markdown",
      "source": [
        "Determinar el número mayorEscribe un programa en Pythonque solicite al usuario ingresar cinco números y luego determine e imprima cuál de los cinco números es mayor uDlizando estructurasselecDvasdoble (if -else)."
      ],
      "metadata": {
        "id": "eiLjpe6UvaBr"
      }
    },
    {
      "cell_type": "code",
      "source": [
        "#saber cual es el numero mayor\n",
        "\n",
        "num1 = float(input(\"Ingrese el primer número: \"))\n",
        "num2 = float(input(\"Ingrese el segundo número: \"))\n",
        "num3= float(input(\"Ingrese el tercer número: \"))\n",
        "num4 = float(input(\"Ingrese el cuarto número: \"))\n",
        "num5 = float(input(\"Ingrese el quinto número: \"))\n",
        "\n",
        "if num1 >= num2 and num1 >= num3 and num1>= num4 and num1 >= num5:\n",
        "    mayor = num1\n",
        "if num2 >= num1 and num2 >= num3 and num2 >= num4 and num2 >= num5:\n",
        "    mayor = num2\n",
        "if num3 >= num1 and num3 >= num2 and num3 >= num4 and num3 >= num5:\n",
        "    mayor = num3\n",
        "if num4 >= num1 and num4 >= num2 and num4 >= num3 and num4 >= num5:\n",
        "    mayor =num4\n",
        "else:\n",
        "    mayor = num5\n",
        "\n",
        "\n",
        "print(\"El número mayor es:\", mayor)"
      ],
      "metadata": {
        "id": "p58Mg0n9xGOn"
      },
      "execution_count": null,
      "outputs": []
    },
    {
      "cell_type": "markdown",
      "source": [
        "Categorizar edadesEscribe un programa en Pythonque solicite al usuario ingresar una edad y determine e imprima en qué  categoría  se  encuentra  la  persona:  \"Niño\"  (0-12  años),  \"Adolescente\"  (13-19  años),  \"Adulto\" (20-64 años) o \"Adulto Mayor\" (65 o más años)."
      ],
      "metadata": {
        "id": "ciwd_9uwxG3f"
      }
    },
    {
      "cell_type": "code",
      "source": [
        "#programa para categorizar edades\n",
        "edad = int(input(\"Ingrese una edad: \"))\n",
        "\n",
        "# Determinar la categoría en función de la edad\n",
        "if 0 <= edad <= 12:\n",
        "    categoria = \"Niño\"\n",
        "if 13 <= edad <= 19:\n",
        "    categoria = \"Adolescente\"\n",
        "if 20 <= edad <= 64:\n",
        "    categoria = \"Adulto\"\n",
        "else:\n",
        "    categoria = \"Adulto Mayor\"\n",
        "\n",
        "#escribir la categoría\n",
        "print(\"La persona está en la categoría: \", categoria)\n"
      ],
      "metadata": {
        "colab": {
          "base_uri": "https://localhost:8080/"
        },
        "id": "5Q7MIZcFxJnd",
        "outputId": "3a8e41ea-749b-45a9-859e-1a714534919a"
      },
      "execution_count": null,
      "outputs": [
        {
          "output_type": "stream",
          "name": "stdout",
          "text": [
            "imgresa tu edad 45\n",
            "en que rango de edad te encuentras\n"
          ]
        }
      ]
    }
  ]
}